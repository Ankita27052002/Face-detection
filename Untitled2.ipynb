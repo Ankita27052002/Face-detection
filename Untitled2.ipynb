{
 "cells": [
  {
   "cell_type": "code",
   "execution_count": 1,
   "id": "96bfab05",
   "metadata": {},
   "outputs": [
    {
     "data": {
      "text/plain": [
       "-1"
      ]
     },
     "execution_count": 1,
     "metadata": {},
     "output_type": "execute_result"
    }
   ],
   "source": [
    "import cv2 as cv\n",
    "face_casecade = cv.CascadeClassifier('haarcascade_frontalface_default.xml')\n",
    "\n",
    "img = cv.imread(\"C:\\\\Users\\\\ANKITA\\\\Pictures\\\\Saved Pictures\\\\sakuntala1.jpg\")\n",
    "\n",
    "gray = cv.cvtColor(img,cv.COLOR_BGR2GRAY)\n",
    "\n",
    "faces = face_casecade.detectMultiScale(gray,1.1,4)\n",
    "for(x,y,w,h)in faces:\n",
    "    cv.rectangle(img,(x,y),(x+w,y+h),(255,0,0),2)\n",
    "cv.imshow('img',img)\n",
    "cv.waitKey(0)"
   ]
  },
  {
   "cell_type": "code",
   "execution_count": 2,
   "id": "20259a30",
   "metadata": {},
   "outputs": [
    {
     "data": {
      "text/plain": [
       "-1"
      ]
     },
     "execution_count": 2,
     "metadata": {},
     "output_type": "execute_result"
    }
   ],
   "source": [
    "import cv2 as cv\n",
    "face_casecade = cv.CascadeClassifier('haarcascade_frontalface_default.xml')\n",
    "\n",
    "img = cv.imread(\"C://Users//ANKITA//Downloads//group.jpg\")\n",
    "\n",
    "gray = cv.cvtColor(img,cv.COLOR_BGR2GRAY)\n",
    "\n",
    "faces = face_casecade.detectMultiScale(gray,1.1,4)\n",
    "for(x,y,w,h)in faces:\n",
    "    cv.rectangle(img,(x,y),(x+w,y+h),(255,0,0),2)\n",
    "cv.imshow('img',img)\n",
    "cv.waitKey(0)"
   ]
  },
  {
   "cell_type": "code",
   "execution_count": null,
   "id": "1bf628d6",
   "metadata": {},
   "outputs": [],
   "source": [
    "import cv2 as cv\n",
    "face_casecade = cv.CascadeClassifier('haarcascade_frontalface_default.xml')\n",
    "\n",
    "cap = cv.VideoCapture(0)\n",
    "\n",
    "while True:\n",
    "    ret,img = cap.read()\n",
    "    \n",
    "\n",
    "    gray = cv.cvtColor(img,cv.COLOR_BGR2GRAY)\n",
    "\n",
    "    faces = face_casecade.detectMultiScale(gray,1.1,4)\n",
    "    for(x,y,w,h)in faces:\n",
    "        cv.rectangle(img,(x,y),(x+w,y+h),(255,0,0),2)\n",
    "    cv.imshow('img',img)\n",
    "    \n",
    "    k = cv.waitKey(30)& 0xff\n",
    "    if k==27:\n",
    "        break\n",
    "cap.release()\n"
   ]
  },
  {
   "cell_type": "code",
   "execution_count": null,
   "id": "4cd917e1",
   "metadata": {},
   "outputs": [],
   "source": []
  }
 ],
 "metadata": {
  "kernelspec": {
   "display_name": "Python 3",
   "language": "python",
   "name": "python3"
  },
  "language_info": {
   "codemirror_mode": {
    "name": "ipython",
    "version": 3
   },
   "file_extension": ".py",
   "mimetype": "text/x-python",
   "name": "python",
   "nbconvert_exporter": "python",
   "pygments_lexer": "ipython3",
   "version": "3.8.8"
  }
 },
 "nbformat": 4,
 "nbformat_minor": 5
}
